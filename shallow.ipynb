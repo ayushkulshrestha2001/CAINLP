{
  "nbformat": 4,
  "nbformat_minor": 0,
  "metadata": {
    "colab": {
      "name": "NLP Lab-Week 4.ipynb",
      "provenance": [],
      "collapsed_sections": []
    },
    "kernelspec": {
      "name": "python3",
      "display_name": "Python 3"
    },
    "language_info": {
      "name": "python"
    }
  },
  "cells": [
    {
      "cell_type": "code",
      "execution_count": null,
      "metadata": {
        "colab": {
          "base_uri": "https://localhost:8080/"
        },
        "id": "H2DDmSo4VnK-",
        "outputId": "10d783ac-136f-4ad7-e5ea-84382d7d2bee"
      },
      "outputs": [
        {
          "output_type": "stream",
          "name": "stdout",
          "text": [
            "Mounted at /content/drive\n"
          ]
        }
      ],
      "source": [
        "from google.colab import drive\n",
        "drive.mount('/content/drive')"
      ]
    },
    {
      "cell_type": "code",
      "source": [
        "import numpy as np\n",
        "import os\n",
        "from keras.preprocessing import image\n",
        "from sklearn import metrics"
      ],
      "metadata": {
        "id": "z9bcrwifV4mS"
      },
      "execution_count": null,
      "outputs": []
    },
    {
      "cell_type": "code",
      "source": [
        "#Dataset link=https://drive.google.com/drive/folders/1gmsoDAoXUIihitinvjPlg67DJP_iGs8k?usp=sharing\n",
        "train_path1='/content/drive/MyDrive/image_dataset/train/planes/'\n",
        "train_path2='/content/drive/MyDrive/image_dataset/train/bike/'\n",
        "test_path1='/content/drive/MyDrive/image_dataset/test/planes/'\n",
        "test_path2='/content/drive/MyDrive/image_dataset/test/bike/'"
      ],
      "metadata": {
        "id": "T-D2YxioV_2r"
      },
      "execution_count": null,
      "outputs": []
    },
    {
      "cell_type": "code",
      "source": [
        "train_x=np.zeros((12288,1500))\n",
        "train_y=np.zeros((1,1500))\n",
        "test_x=np.zeros((12288,98))\n",
        "test_y=np.zeros((1,98))"
      ],
      "metadata": {
        "id": "xwjMEZUwWg0j"
      },
      "execution_count": null,
      "outputs": []
    },
    {
      "cell_type": "code",
      "source": [
        "train_files1=os.listdir(train_path1)\n",
        "train_files2=os.listdir(train_path2)\n",
        "for i in range(len(train_files1)):\n",
        "  img=image.load_img(train_path1+train_files1[i],target_size=(64,64))\n",
        "  arr=np.array(img)\n",
        "  arr=arr.flatten()\n",
        "  train_x[:,i]=arr\n",
        "  train_y[0,i]=0\n",
        "for i in range(len(train_files2)):\n",
        "  img=image.load_img(train_path2+train_files2[i],target_size=(64,64))\n",
        "  arr=np.array(img)\n",
        "  arr=arr.flatten()\n",
        "  train_x[:,i+750]=arr\n",
        "  train_y[0,i+750]=1"
      ],
      "metadata": {
        "id": "zXDFhxhbWyqc"
      },
      "execution_count": null,
      "outputs": []
    },
    {
      "cell_type": "code",
      "source": [
        "test_files1=os.listdir(test_path1)\n",
        "test_files2=os.listdir(test_path2)\n",
        "for i in range(len(test_files1)):\n",
        "  img=image.load_img(test_path1+test_files1[i],target_size=(64,64))\n",
        "  arr=np.array(img)\n",
        "  arr=arr.flatten()\n",
        "  test_x[:,i]=arr\n",
        "  test_y[0,i]=0\n",
        "for i in range(len(test_files2)):\n",
        "  img=image.load_img(test_path2+test_files2[i],target_size=(64,64))\n",
        "  arr=np.array(img)\n",
        "  arr=arr.flatten()\n",
        "  test_x[:,i+50]=arr\n",
        "  test_y[0,i+50]=1"
      ],
      "metadata": {
        "id": "5oyBxz8VX-_3"
      },
      "execution_count": null,
      "outputs": []
    },
    {
      "cell_type": "code",
      "source": [
        "train_x=train_x/255.0\n",
        "test_x=test_x/255.0"
      ],
      "metadata": {
        "id": "XDujJ5fdbDDT"
      },
      "execution_count": null,
      "outputs": []
    },
    {
      "cell_type": "code",
      "source": [
        "def sigmoid(z):\n",
        "  return (1/(1+np.exp(-z)))"
      ],
      "metadata": {
        "id": "OBV-RE_mfQBo"
      },
      "execution_count": null,
      "outputs": []
    },
    {
      "cell_type": "code",
      "source": [
        "def init_params(dimension):\n",
        "  w=np.zeros((dimension,1))\n",
        "  b=0\n",
        "  return w,b"
      ],
      "metadata": {
        "id": "y6y3V0XUfZkR"
      },
      "execution_count": null,
      "outputs": []
    },
    {
      "cell_type": "code",
      "source": [
        "def propagate(w,b,X,Y):\n",
        "  n=X.shape[1] #number of training examples\n",
        "  \n",
        "  #forward pass\n",
        "  predicted=sigmoid(np.dot(w.T,X)+b)\n",
        "  cost=(-1/n)*np.sum(np.multiply(Y,np.log(predicted))+np.multiply((1-Y),np.log(1-predicted)))\n",
        "  \n",
        "  #backward pass\n",
        "  dw=(1/n)*np.dot(X,(predicted-Y).T)\n",
        "  db=(1/n)*np.sum(predicted-Y)\n",
        "  \n",
        "  cost=np.squeeze(cost)\n",
        "\n",
        "  #grad dictionary\n",
        "  grads={\"dw\":dw,\"db\":db}\n",
        "\n",
        "  return grads,cost\n"
      ],
      "metadata": {
        "id": "q1R6QxqpZ_gG"
      },
      "execution_count": null,
      "outputs": []
    },
    {
      "cell_type": "code",
      "source": [
        "def optimize(w,b,X,Y,epochs,lr):\n",
        "  costs=[]\n",
        "  for i in range(epochs):\n",
        "    grads,cost=propagate(w,b,X,Y)\n",
        "\n",
        "    dw=grads[\"dw\"]\n",
        "    db=grads[\"db\"]\n",
        "\n",
        "    w=w-(lr*dw)\n",
        "    b=b-(lr*db)\n",
        "\n",
        "    if(i%10==0):\n",
        "      costs.append(cost)\n",
        "      print(\"cost after %i iterations:%f\"%(i,cost))\n",
        "  \n",
        "  params={\"w\":w,\"b\":b}\n",
        "  grads={\"dw\":dw,\"db\":db}\n",
        "\n",
        "  return params,grads,costs\n",
        "\n"
      ],
      "metadata": {
        "id": "z-7wfKLRhXrI"
      },
      "execution_count": null,
      "outputs": []
    },
    {
      "cell_type": "code",
      "source": [
        "def predict(w,b,X):\n",
        "  Y_predict=np.zeros((1,X.shape[1]))\n",
        "  A=sigmoid(np.dot(w.T,X)+b)\n",
        "  for i in range(A.shape[1]):\n",
        "    if(A[0,i]<=0.5):\n",
        "      Y_predict[0,i]=0\n",
        "    else:\n",
        "      Y_predict[0,i]=1\n",
        "  return Y_predict\n"
      ],
      "metadata": {
        "id": "1OIS0BrNihed"
      },
      "execution_count": null,
      "outputs": []
    },
    {
      "cell_type": "code",
      "source": [
        "def model(X_train,Y_train,X_test,Y_test,epochs,lr):\n",
        "  w,b=init_params(X_train.shape[0])\n",
        "  params,grads,costs=optimize(w,b,X_train,Y_train,epochs,lr)\n",
        "  w=params[\"w\"]\n",
        "  b=params[\"b\"]\n",
        "  train_predict=predict(w,b,X_train)\n",
        "  test_predict=predict(w,b,X_test)\n",
        "  print(\"train_accuracy: {} %\".format(100-np.mean(np.abs(train_predict - Y_train)) * 100))\n",
        "  print(\"test_accuracy : {} %\".format(100-np.mean(np.abs(test_predict  - Y_test)) * 100))"
      ],
      "metadata": {
        "id": "DdSGVzlxjGbV"
      },
      "execution_count": null,
      "outputs": []
    },
    {
      "cell_type": "code",
      "source": [
        "model(train_x,train_y,test_x,test_y,100,0.001)"
      ],
      "metadata": {
        "colab": {
          "base_uri": "https://localhost:8080/"
        },
        "id": "UKsLaBcEj7Fl",
        "outputId": "70c361e8-84e1-4201-fec3-efc5e5c81c83"
      },
      "execution_count": null,
      "outputs": [
        {
          "output_type": "stream",
          "name": "stdout",
          "text": [
            "cost after 0 iterations:0.693147\n",
            "cost after 10 iterations:0.547769\n",
            "cost after 20 iterations:0.464781\n",
            "cost after 30 iterations:0.410535\n",
            "cost after 40 iterations:0.372720\n",
            "cost after 50 iterations:0.344937\n",
            "cost after 60 iterations:0.323652\n",
            "cost after 70 iterations:0.306789\n",
            "cost after 80 iterations:0.293061\n",
            "cost after 90 iterations:0.281633\n",
            "train_accuracy: 92.4 %\n",
            "test_accuracy : 100.0 %\n"
          ]
        }
      ]
    },
    {
      "cell_type": "code",
      "source": [
        "import tensorflow as tf\n",
        "from tensorflow import keras"
      ],
      "metadata": {
        "id": "IBuXYdDQSt1-"
      },
      "execution_count": null,
      "outputs": []
    },
    {
      "cell_type": "code",
      "source": [
        "model=keras.Sequential()\n",
        "model.add(keras.layers.Dense(1,activation='sigmoid',input_shape=(12288,)))"
      ],
      "metadata": {
        "id": "kML6eSfTS1Kx"
      },
      "execution_count": null,
      "outputs": []
    },
    {
      "cell_type": "code",
      "source": [
        "model.summary()"
      ],
      "metadata": {
        "colab": {
          "base_uri": "https://localhost:8080/"
        },
        "id": "ZlIr_ABCTggj",
        "outputId": "dab963d0-ddcb-4fa8-e278-52767c4b1421"
      },
      "execution_count": null,
      "outputs": [
        {
          "output_type": "stream",
          "name": "stdout",
          "text": [
            "Model: \"sequential\"\n",
            "_________________________________________________________________\n",
            " Layer (type)                Output Shape              Param #   \n",
            "=================================================================\n",
            " dense (Dense)               (None, 1)                 12289     \n",
            "                                                                 \n",
            "=================================================================\n",
            "Total params: 12,289\n",
            "Trainable params: 12,289\n",
            "Non-trainable params: 0\n",
            "_________________________________________________________________\n"
          ]
        }
      ]
    },
    {
      "cell_type": "code",
      "source": [
        "model.compile(loss=keras.losses.BinaryCrossentropy(from_logits=True),\n",
        "              optimizer='sgd',\n",
        "              metrics=['accuracy'])"
      ],
      "metadata": {
        "id": "-_ZdeEX-Th9y"
      },
      "execution_count": null,
      "outputs": []
    },
    {
      "cell_type": "code",
      "source": [
        "model.fit(train_x.T,train_y.flatten(),epochs=20)"
      ],
      "metadata": {
        "colab": {
          "base_uri": "https://localhost:8080/"
        },
        "id": "MgVpfjbGUVv9",
        "outputId": "76fabad4-cf8d-453f-b570-6dcc7366cae3"
      },
      "execution_count": null,
      "outputs": [
        {
          "output_type": "stream",
          "name": "stdout",
          "text": [
            "Epoch 1/20\n"
          ]
        },
        {
          "output_type": "stream",
          "name": "stderr",
          "text": [
            "/usr/local/lib/python3.7/dist-packages/tensorflow/python/util/dispatch.py:1082: UserWarning: \"`binary_crossentropy` received `from_logits=True`, but the `output` argument was produced by a sigmoid or softmax activation and thus does not represent logits. Was this intended?\"\n",
            "  return dispatch_target(*args, **kwargs)\n"
          ]
        },
        {
          "output_type": "stream",
          "name": "stdout",
          "text": [
            "47/47 [==============================] - 1s 2ms/step - loss: 1.8506 - accuracy: 0.7187\n",
            "Epoch 2/20\n",
            "47/47 [==============================] - 0s 2ms/step - loss: 0.2289 - accuracy: 0.9253\n",
            "Epoch 3/20\n",
            "47/47 [==============================] - 0s 2ms/step - loss: 0.3938 - accuracy: 0.8893\n",
            "Epoch 4/20\n",
            "47/47 [==============================] - 0s 2ms/step - loss: 0.1687 - accuracy: 0.9507\n",
            "Epoch 5/20\n",
            "47/47 [==============================] - 0s 2ms/step - loss: 0.1404 - accuracy: 0.9480\n",
            "Epoch 6/20\n",
            "47/47 [==============================] - 0s 2ms/step - loss: 0.4481 - accuracy: 0.8867\n",
            "Epoch 7/20\n",
            "47/47 [==============================] - 0s 2ms/step - loss: 0.1033 - accuracy: 0.9640\n",
            "Epoch 8/20\n",
            "47/47 [==============================] - 0s 2ms/step - loss: 0.0987 - accuracy: 0.9620\n",
            "Epoch 9/20\n",
            "47/47 [==============================] - 0s 2ms/step - loss: 0.0865 - accuracy: 0.9687\n",
            "Epoch 10/20\n",
            "47/47 [==============================] - 0s 2ms/step - loss: 0.0692 - accuracy: 0.9753\n",
            "Epoch 11/20\n",
            "47/47 [==============================] - 0s 2ms/step - loss: 0.0630 - accuracy: 0.9733\n",
            "Epoch 12/20\n",
            "47/47 [==============================] - 0s 2ms/step - loss: 0.0650 - accuracy: 0.9740\n",
            "Epoch 13/20\n",
            "47/47 [==============================] - 0s 2ms/step - loss: 0.0575 - accuracy: 0.9793\n",
            "Epoch 14/20\n",
            "47/47 [==============================] - 0s 2ms/step - loss: 0.0606 - accuracy: 0.9780\n",
            "Epoch 15/20\n",
            "47/47 [==============================] - 0s 2ms/step - loss: 0.0537 - accuracy: 0.9807\n",
            "Epoch 16/20\n",
            "47/47 [==============================] - 0s 2ms/step - loss: 0.0616 - accuracy: 0.9753\n",
            "Epoch 17/20\n",
            "47/47 [==============================] - 0s 2ms/step - loss: 0.0483 - accuracy: 0.9860\n",
            "Epoch 18/20\n",
            "47/47 [==============================] - 0s 2ms/step - loss: 0.0468 - accuracy: 0.9847\n",
            "Epoch 19/20\n",
            "47/47 [==============================] - 0s 2ms/step - loss: 0.0483 - accuracy: 0.9873\n",
            "Epoch 20/20\n",
            "47/47 [==============================] - 0s 2ms/step - loss: 0.0461 - accuracy: 0.9847\n"
          ]
        },
        {
          "output_type": "execute_result",
          "data": {
            "text/plain": [
              "<keras.callbacks.History at 0x7f8fb309afd0>"
            ]
          },
          "metadata": {},
          "execution_count": 21
        }
      ]
    },
    {
      "cell_type": "code",
      "source": [
        "model.evaluate(test_x.T,test_y.flatten())"
      ],
      "metadata": {
        "colab": {
          "base_uri": "https://localhost:8080/"
        },
        "id": "rj5LHEOoUsCc",
        "outputId": "de0e2451-1f04-403b-81dd-9f63a200c368"
      },
      "execution_count": null,
      "outputs": [
        {
          "output_type": "stream",
          "name": "stdout",
          "text": [
            "4/4 [==============================] - 0s 3ms/step - loss: 0.0352 - accuracy: 0.9898\n"
          ]
        },
        {
          "output_type": "stream",
          "name": "stderr",
          "text": [
            "/usr/local/lib/python3.7/dist-packages/tensorflow/python/util/dispatch.py:1082: UserWarning: \"`binary_crossentropy` received `from_logits=True`, but the `output` argument was produced by a sigmoid or softmax activation and thus does not represent logits. Was this intended?\"\n",
            "  return dispatch_target(*args, **kwargs)\n"
          ]
        },
        {
          "output_type": "execute_result",
          "data": {
            "text/plain": [
              "[0.035177215933799744, 0.9897959232330322]"
            ]
          },
          "metadata": {},
          "execution_count": 22
        }
      ]
    },
    {
      "cell_type": "code",
      "source": [
        ""
      ],
      "metadata": {
        "id": "Wvht-XXdU0pl"
      },
      "execution_count": null,
      "outputs": []
    }
  ]
}