{
  "nbformat": 4,
  "nbformat_minor": 0,
  "metadata": {
    "colab": {
      "name": "DL_practice.ipynb",
      "provenance": [],
      "collapsed_sections": []
    },
    "kernelspec": {
      "name": "python3",
      "display_name": "Python 3"
    },
    "language_info": {
      "name": "python"
    }
  },
  "cells": [
    {
      "cell_type": "code",
      "source": [
        "import numpy as np"
      ],
      "metadata": {
        "id": "CAlOZ71L5nA2"
      },
      "execution_count": 1,
      "outputs": []
    },
    {
      "cell_type": "code",
      "execution_count": 13,
      "metadata": {
        "id": "VyRMNAJH5Zqq"
      },
      "outputs": [],
      "source": [
        "# --------- shallow neural network  ------------ #\n",
        "\n",
        "def initparam(nfeat):\n",
        "  w=np.zeroes((nfeat,1))\n",
        "  b=0\n",
        "  return w,b"
      ]
    },
    {
      "cell_type": "code",
      "source": [
        "def sigmoid(z):\n",
        "  return 1/(1+np.exp(-z))"
      ],
      "metadata": {
        "id": "zMLdFEsI-PIe"
      },
      "execution_count": 3,
      "outputs": []
    },
    {
      "cell_type": "code",
      "source": [
        "def propagate(w,b,X,Y):\n",
        "  n=X.shape[1]\n",
        "  z=np.dot(w.T,X)+b\n",
        "  a=sigmoid(z)\n",
        "  cost=(-1/n)*np.sum(np.multiply(Y,np.log(a)+np.multiply((1-Y),np.log(1-a))))\n",
        "  dw=(1/n)*np.dot(X,(a-Y).T)\n",
        "  db=(1/n)*np.sum(a-Y)\n",
        "  cost=np.squeeze(cost)\n",
        "  grads={\"dw\":dw,\"db\":db}\n",
        "  return grads,cost"
      ],
      "metadata": {
        "id": "PV-tNLv1-afm"
      },
      "execution_count": 4,
      "outputs": []
    },
    {
      "cell_type": "code",
      "source": [
        "def optimize(w,b,X,Y,epochs,lr):\n",
        "  costs=[]\n",
        "  for i in range(epochs):\n",
        "    grads,cost=propagate(w,b,X,Y)\n",
        "    dw=grads[\"dw\"]\n",
        "    db=grads[\"db\"]\n",
        "    w=w-(lr*dw)\n",
        "    b=b-(lr*db)\n",
        "\n",
        "    if(i%10==0):\n",
        "      costs.append(cost)\n",
        "    params={\"w\":w,\"b\":b}\n",
        "    grads={\"dw\":dw,\"db\":db}\n",
        "    return params,grads,costs"
      ],
      "metadata": {
        "id": "Pq_6vjpGAqeU"
      },
      "execution_count": 7,
      "outputs": []
    },
    {
      "cell_type": "code",
      "source": [
        "def predict(w,b,X):\n",
        "  z=np.dot(w.T,X)+b\n",
        "  a=sigmoid(z)\n",
        "  pred=np.zeroes((1,X.shape[1]))\n",
        "  for i in range(X.shape[1]):\n",
        "    if(a[0,i]<=0.5):\n",
        "      pred[0,i]=0\n",
        "    else:\n",
        "      pred[0,i]=1\n",
        "  return pred"
      ],
      "metadata": {
        "id": "hJ2zm5HeEEvT"
      },
      "execution_count": 6,
      "outputs": []
    },
    {
      "cell_type": "code",
      "source": [
        "def model(X_train,Y_train,X_test,Y_test,epochs,lr):\n",
        "  w,b=initparam(X_train.shape[0])\n",
        "  params,grads,costs=optimize(w,b,X_train,Y_train,epochs,lr)\n",
        "  w=params[\"w\"]\n",
        "  b=params[\"b\"]\n",
        "  pred_train=predict(w,b,X_train)\n",
        "  pred_test=predict(w,b,X_test)\n",
        "  accuracy_train=100-np.mean(np.abs(pred_train-Y_train))*100\n",
        "  accuracy_test=100-np.mean(np.abs(pred_test-Y_test))*100"
      ],
      "metadata": {
        "id": "TvkkP4LnFTpF"
      },
      "execution_count": 8,
      "outputs": []
    },
    {
      "cell_type": "code",
      "source": [
        "# model(X_train,Y_train,X_test,Y_test,epochs,lr)"
      ],
      "metadata": {
        "id": "3xPwqEuzIr-Z"
      },
      "execution_count": 10,
      "outputs": []
    },
    {
      "cell_type": "code",
      "source": [
        "# --------- logistic regression as neural network -------------- #"
      ],
      "metadata": {
        "id": "yik1dDJCIyKm"
      },
      "execution_count": 14,
      "outputs": []
    },
    {
      "cell_type": "code",
      "source": [
        "def tanh(z):\n",
        "  return (np.exp(z)-np.exp(-z))/(np.exp(z)+np.exp(-z))"
      ],
      "metadata": {
        "id": "B1BCVUB3OJDG"
      },
      "execution_count": 18,
      "outputs": []
    },
    {
      "cell_type": "code",
      "source": [
        "def initparam(n_x,n_y,n_h):\n",
        "  w1=np.random.randn(n_h,n_x) #mean,sigma square normal distribution\n",
        "  w2=np.random.randn(n_y,n_h)\n",
        "  b1=np.zeroes((n_h,1))\n",
        "  b2=np.zeroes((n_y,1))\n",
        "  params={\"w1\":w1,\"b1\":b1,\"w2\":w2,\"b2\":b2}\n",
        "  return params"
      ],
      "metadata": {
        "id": "4DxVoiMDJki-"
      },
      "execution_count": 16,
      "outputs": []
    },
    {
      "cell_type": "code",
      "source": [
        "def forwardpropagation(params,X):\n",
        "  z1=np.dot(X.T,params[\"w1\"])+params[\"b1\"]\n",
        "  a1=tanh(z1)\n",
        "  z2=np.dot(a1,params[\"w2\"])+params[\"b2\"]\n",
        "  a2=sigmoid(z2)\n",
        "  cache={\"z1\":z1,\"a1\":a1,\"z2\":z2,\"a2\":a2}\n",
        "  return a2,cache"
      ],
      "metadata": {
        "id": "XwUov_ypNgTE"
      },
      "execution_count": 1,
      "outputs": []
    },
    {
      "cell_type": "code",
      "source": [
        "def computecost(a2,Y):\n",
        "  n=Y.shape[1]\n",
        "  cost=(-1/n)*np.sum(np.multiply(Y,np.log(a2)+np.multiply(1-Y,np.log(1-a2))))\n",
        "  cost=float(np.squeeze(cost))\n",
        "  return cost"
      ],
      "metadata": {
        "id": "InzjEuCQp1QY"
      },
      "execution_count": 2,
      "outputs": []
    },
    {
      "cell_type": "code",
      "source": [
        "def back_propagation(parameters,cache,X,Y):\n",
        "    n=X.shape[1]\n",
        "    W1=parameters['W1']\n",
        "    W2=parameters['W2']\n",
        "    A1=cache['A1']\n",
        "    A2=cache['A2']\n",
        "    dZ2=A2-Y\n",
        "    dW2=(1/n)*np.dot(dZ2,A1.T)\n",
        "    db2=(1/n)*np.sum(dZ2,axis=1,keepdims=True)\n",
        "    dZ1=np.multiply(np.dot(W2.T,dZ2),1-np.power(A1,2))\n",
        "    dW1=(1/n)*np.dot(dZ1,X.T)\n",
        "    db1=(1/n)*np.sum(dZ1,axis=1,keepdims=True)\n",
        "    grads={'dW1':dW1,'db1':db1,'dW2':dW2,'db2':db2}\n",
        "    return grads"
      ],
      "metadata": {
        "id": "FheyWBDkqnVc"
      },
      "execution_count": 3,
      "outputs": []
    },
    {
      "cell_type": "code",
      "source": [
        "def update_rule(grads,parameters,lr):\n",
        "    W1=parameters['W1']\n",
        "    b1=parameters['b1']\n",
        "    W2=parameters['W2']\n",
        "    b2=parameters['b2']\n",
        "    dW1=grads['dW1']\n",
        "    db1=grads['db1']\n",
        "    dW2=grads['dW2']\n",
        "    db2=grads['db2']\n",
        "    W1=W1-lr*dW1\n",
        "    b1=b1-lr*db1\n",
        "    W2=W2-lr*dW2\n",
        "    b2=b2-lr*db2\n",
        "    parameters = {\"W1\": W1,\"b1\": b1,\"W2\": W2,\"b2\": b2}\n",
        "    \n",
        "    return parameters"
      ],
      "metadata": {
        "id": "ks-XfQRPy5qw"
      },
      "execution_count": 4,
      "outputs": []
    },
    {
      "cell_type": "code",
      "source": [
        "def training_phase(X,Y,epochs,lr):\n",
        "    n_x=X.shape[0]\n",
        "    n_h=4\n",
        "    n_y=Y.shape[0]\n",
        "    parameters=initializeparameters(n_x, n_h, n_y)\n",
        "    for i in range(epochs):\n",
        "        A2,cache=forward_propagation(parameters,X)\n",
        "        cost=compute_cost(A2,Y)\n",
        "        grads=back_propagation(parameters,cache,X,Y)\n",
        "        parameters=update_rule(grads,parameters,lr)\n",
        "        if(i%1000==0):\n",
        "             print (\"Cost after iteration %i: %f\" %(i, cost))\n",
        "                \n",
        "    return parameters"
      ],
      "metadata": {
        "id": "srkvnZ_jy-GD"
      },
      "execution_count": 5,
      "outputs": []
    },
    {
      "cell_type": "code",
      "source": [
        "def predict(parameters,X):\n",
        "    A2,cache=forward_propagation(parameters,X)\n",
        "    predictions=A2>0.5\n",
        "    return predictions"
      ],
      "metadata": {
        "id": "FwIio3OJzEcA"
      },
      "execution_count": null,
      "outputs": []
    },
    {
      "cell_type": "code",
      "source": [
        "parameters=training_phase(X,Y,10000,lr=1.2)"
      ],
      "metadata": {
        "id": "Chh0wqxqzUU6"
      },
      "execution_count": null,
      "outputs": []
    },
    {
      "cell_type": "code",
      "source": [
        "print ('Accuracy: %d' % float((np.dot(Y, predictions.T) + np.dot(1 - Y, 1 - predictions.T)) / float(Y.size) * 100) + '%')"
      ],
      "metadata": {
        "id": "UHLDcGkpzXdm"
      },
      "execution_count": null,
      "outputs": []
    }
  ]
}