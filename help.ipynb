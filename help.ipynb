{
  "cells": [
    {
      "cell_type": "code",
      "execution_count": 1,
      "metadata": {
        "id": "CAlOZ71L5nA2"
      },
      "outputs": [],
      "source": [
        "import numpy as np"
      ]
    },
    {
      "cell_type": "code",
      "execution_count": 13,
      "metadata": {
        "id": "VyRMNAJH5Zqq"
      },
      "outputs": [],
      "source": [
        "# --------- shallow neural network  ------------ #\n",
        "\n",
        "def initparam(nfeat):\n",
        "  w=np.zeroes((nfeat,1))\n",
        "  b=0\n",
        "  return w,b"
      ]
    },
    {
      "cell_type": "code",
      "execution_count": 3,
      "metadata": {
        "id": "zMLdFEsI-PIe"
      },
      "outputs": [],
      "source": [
        "def sigmoid(z):\n",
        "  return 1/(1+np.exp(-z))"
      ]
    },
    {
      "cell_type": "code",
      "execution_count": 4,
      "metadata": {
        "id": "PV-tNLv1-afm"
      },
      "outputs": [],
      "source": [
        "def propagate(w,b,X,Y):\n",
        "  n=X.shape[1]\n",
        "  z=np.dot(w.T,X)+b\n",
        "  a=sigmoid(z)\n",
        "  cost=(-1/n)*np.sum(np.multiply(Y,np.log(a)+np.multiply((1-Y),np.log(1-a))))\n",
        "  dw=(1/n)*np.dot(X,(a-Y).T)\n",
        "  db=(1/n)*np.sum(a-Y)\n",
        "  cost=np.squeeze(cost)\n",
        "  grads={\"dw\":dw,\"db\":db}\n",
        "  return grads,cost"
      ]
    },
    {
      "cell_type": "code",
      "execution_count": 7,
      "metadata": {
        "id": "Pq_6vjpGAqeU"
      },
      "outputs": [],
      "source": [
        "def optimize(w,b,X,Y,epochs,lr):\n",
        "  costs=[]\n",
        "  for i in range(epochs):\n",
        "    grads,cost=propagate(w,b,X,Y)\n",
        "    dw=grads[\"dw\"]\n",
        "    db=grads[\"db\"]\n",
        "    w=w-(lr*dw)\n",
        "    b=b-(lr*db)\n",
        "\n",
        "    if(i%10==0):\n",
        "      costs.append(cost)\n",
        "    params={\"w\":w,\"b\":b}\n",
        "    grads={\"dw\":dw,\"db\":db}\n",
        "    return params,grads,costs"
      ]
    },
    {
      "cell_type": "code",
      "execution_count": 6,
      "metadata": {
        "id": "hJ2zm5HeEEvT"
      },
      "outputs": [],
      "source": [
        "def predict(w,b,X):\n",
        "  z=np.dot(w.T,X)+b\n",
        "  a=sigmoid(z)\n",
        "  pred=np.zeroes((1,X.shape[1]))\n",
        "  for i in range(X.shape[1]):\n",
        "    if(a[0,i]<=0.5):\n",
        "      pred[0,i]=0\n",
        "    else:\n",
        "      pred[0,i]=1\n",
        "  return pred"
      ]
    },
    {
      "cell_type": "code",
      "execution_count": 8,
      "metadata": {
        "id": "TvkkP4LnFTpF"
      },
      "outputs": [],
      "source": [
        "def model(X_train,Y_train,X_test,Y_test,epochs,lr):\n",
        "  w,b=initparam(X_train.shape[0])\n",
        "  params,grads,costs=optimize(w,b,X_train,Y_train,epochs,lr)\n",
        "  w=params[\"w\"]\n",
        "  b=params[\"b\"]\n",
        "  pred_train=predict(w,b,X_train)\n",
        "  pred_test=predict(w,b,X_test)\n",
        "  accuracy_train=100-np.mean(np.abs(pred_train-Y_train))*100\n",
        "  accuracy_test=100-np.mean(np.abs(pred_test-Y_test))*100"
      ]
    },
    {
      "cell_type": "code",
      "execution_count": 10,
      "metadata": {
        "id": "3xPwqEuzIr-Z"
      },
      "outputs": [],
      "source": [
        "# model(X_train,Y_train,X_test,Y_test,epochs,lr)"
      ]
    },
    {
      "cell_type": "code",
      "execution_count": 14,
      "metadata": {
        "id": "yik1dDJCIyKm"
      },
      "outputs": [],
      "source": [
        "# --------- logistic regression as neural network -------------- #"
      ]
    },
    {
      "cell_type": "code",
      "execution_count": 18,
      "metadata": {
        "id": "B1BCVUB3OJDG"
      },
      "outputs": [],
      "source": [
        "def tanh(z):\n",
        "  return (np.exp(z)-np.exp(-z))/(np.exp(z)+np.exp(-z))"
      ]
    },
    {
      "cell_type": "code",
      "execution_count": 16,
      "metadata": {
        "id": "4DxVoiMDJki-"
      },
      "outputs": [],
      "source": [
        "def initparam(n_x,n_y,n_h):\n",
        "  w1=np.random.randn(n_h,n_x) #mean,sigma square normal distribution\n",
        "  w2=np.random.randn(n_y,n_h)\n",
        "  b1=np.zeroes((n_h,1))\n",
        "  b2=np.zeroes((n_y,1))\n",
        "  params={\"w1\":w1,\"b1\":b1,\"w2\":w2,\"b2\":b2}\n",
        "  return params"
      ]
    },
    {
      "cell_type": "code",
      "execution_count": 1,
      "metadata": {
        "id": "XwUov_ypNgTE"
      },
      "outputs": [],
      "source": [
        "def forwardpropagation(params,X):\n",
        "  z1=np.dot(X.T,params[\"w1\"])+params[\"b1\"]\n",
        "  a1=tanh(z1)\n",
        "  z2=np.dot(a1,params[\"w2\"])+params[\"b2\"]\n",
        "  a2=sigmoid(z2)\n",
        "  cache={\"z1\":z1,\"a1\":a1,\"z2\":z2,\"a2\":a2}\n",
        "  return a2,cache"
      ]
    },
    {
      "cell_type": "code",
      "execution_count": 2,
      "metadata": {
        "id": "InzjEuCQp1QY"
      },
      "outputs": [],
      "source": [
        "def computecost(a2,Y):\n",
        "  n=Y.shape[1]\n",
        "  cost=(-1/n)*np.sum(np.multiply(Y,np.log(a2)+np.multiply(1-Y,np.log(1-a2))))\n",
        "  cost=float(np.squeeze(cost))\n",
        "  return cost"
      ]
    },
    {
      "cell_type": "code",
      "execution_count": 3,
      "metadata": {
        "id": "FheyWBDkqnVc"
      },
      "outputs": [],
      "source": [
        "def back_propagation(parameters,cache,X,Y):\n",
        "    n=X.shape[1]\n",
        "    W1=parameters['W1']\n",
        "    W2=parameters['W2']\n",
        "    A1=cache['A1']\n",
        "    A2=cache['A2']\n",
        "    dZ2=A2-Y\n",
        "    dW2=(1/n)*np.dot(dZ2,A1.T)\n",
        "    db2=(1/n)*np.sum(dZ2,axis=1,keepdims=True)\n",
        "    dZ1=np.multiply(np.dot(W2.T,dZ2),1-np.power(A1,2))\n",
        "    dW1=(1/n)*np.dot(dZ1,X.T)\n",
        "    db1=(1/n)*np.sum(dZ1,axis=1,keepdims=True)\n",
        "    grads={'dW1':dW1,'db1':db1,'dW2':dW2,'db2':db2}\n",
        "    return grads"
      ]
    },
    {
      "cell_type": "code",
      "execution_count": 4,
      "metadata": {
        "id": "ks-XfQRPy5qw"
      },
      "outputs": [],
      "source": [
        "def update_rule(grads,parameters,lr):\n",
        "    W1=parameters['W1']\n",
        "    b1=parameters['b1']\n",
        "    W2=parameters['W2']\n",
        "    b2=parameters['b2']\n",
        "    dW1=grads['dW1']\n",
        "    db1=grads['db1']\n",
        "    dW2=grads['dW2']\n",
        "    db2=grads['db2']\n",
        "    W1=W1-lr*dW1\n",
        "    b1=b1-lr*db1\n",
        "    W2=W2-lr*dW2\n",
        "    b2=b2-lr*db2\n",
        "    parameters = {\"W1\": W1,\"b1\": b1,\"W2\": W2,\"b2\": b2}\n",
        "    \n",
        "    return parameters"
      ]
    },
    {
      "cell_type": "code",
      "execution_count": 5,
      "metadata": {
        "id": "srkvnZ_jy-GD"
      },
      "outputs": [],
      "source": [
        "def training_phase(X,Y,epochs,lr):\n",
        "    n_x=X.shape[0]\n",
        "    n_h=4\n",
        "    n_y=Y.shape[0]\n",
        "    parameters=initializeparameters(n_x, n_h, n_y)\n",
        "    for i in range(epochs):\n",
        "        A2,cache=forward_propagation(parameters,X)\n",
        "        cost=compute_cost(A2,Y)\n",
        "        grads=back_propagation(parameters,cache,X,Y)\n",
        "        parameters=update_rule(grads,parameters,lr)\n",
        "        if(i%1000==0):\n",
        "             print (\"Cost after iteration %i: %f\" %(i, cost))\n",
        "                \n",
        "    return parameters"
      ]
    },
    {
      "cell_type": "code",
      "execution_count": null,
      "metadata": {
        "id": "FwIio3OJzEcA"
      },
      "outputs": [],
      "source": [
        "def predict(parameters,X):\n",
        "    A2,cache=forward_propagation(parameters,X)\n",
        "    predictions=A2>0.5\n",
        "    return predictions"
      ]
    },
    {
      "cell_type": "code",
      "execution_count": null,
      "metadata": {
        "id": "Chh0wqxqzUU6"
      },
      "outputs": [],
      "source": [
        "parameters=training_phase(X,Y,10000,lr=1.2)"
      ]
    },
    {
      "cell_type": "code",
      "execution_count": null,
      "metadata": {
        "id": "UHLDcGkpzXdm"
      },
      "outputs": [],
      "source": [
        "print ('Accuracy: %d' % float((np.dot(Y, predictions.T) + np.dot(1 - Y, 1 - predictions.T)) / float(Y.size) * 100) + '%')"
      ]
    },
    {
      "cell_type": "code",
      "execution_count": null,
      "metadata": {},
      "outputs": [],
      "source": [
        "def remove_emoji(text):\n",
        "    emoji_pattern = re.compile(\"[\"\n",
        "                           u\"\\U0001F600-\\U0001F64F\"  # emoticons\n",
        "                           u\"\\U0001F300-\\U0001F5FF\"  # symbols & pictographs\n",
        "                           u\"\\U0001F680-\\U0001F6FF\"  # transport & map symbols\n",
        "                           u\"\\U0001F1E0-\\U0001F1FF\"  # flags (iOS)\n",
        "                           u\"\\U00002702-\\U000027B0\"\n",
        "                           u\"\\U000024C2-\\U0001F251\"\n",
        "                           \"]+\", flags=re.UNICODE)\n",
        "    return emoji_pattern.sub(r'', str(text))\n",
        "\n",
        "def remove_url(text): \n",
        "    url_pattern  = re.compile('http[s]?://(?:[a-zA-Z]|[0-9]|[$-_@.&+]|[!*\\(\\),]|(?:%[0-9a-fA-F][0-9a-fA-F]))+')\n",
        "    return url_pattern.sub(r'', text)\n",
        " # converting return value from list to string\n",
        "\n",
        "\n",
        "def clean_text(text ): \n",
        "    delete_dict = {sp_character: '' for sp_character in string.punctuation} \n",
        "    delete_dict[' '] = ' ' \n",
        "    table = str.maketrans(delete_dict)\n",
        "    text1 = str(text).translate(table)\n",
        "    #print('cleaned:'+text1)\n",
        "    textArr= str(text1).split()\n",
        "    text2 = ' '.join([w for w in textArr if ( not w.isdigit() and  ( not w.isdigit() and len(w)>3))]) \n",
        "    \n",
        "    return text2.lower()"
      ]
    }
  ],
  "metadata": {
    "colab": {
      "collapsed_sections": [],
      "name": "DL_practice.ipynb",
      "provenance": []
    },
    "kernelspec": {
      "display_name": "Python 3",
      "name": "python3"
    },
    "language_info": {
      "name": "python"
    }
  },
  "nbformat": 4,
  "nbformat_minor": 0
}
