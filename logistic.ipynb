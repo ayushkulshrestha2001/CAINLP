{
  "cells": [
    {
      "cell_type": "code",
      "execution_count": null,
      "metadata": {
        "id": "FZ_xH09kC4pn"
      },
      "outputs": [],
      "source": [
        "df1=pd.read_csv('C:/Users/jasme/Downloads/Q2-setE/planar.csv')"
      ]
    },
    {
      "cell_type": "code",
      "execution_count": null,
      "metadata": {
        "id": "0HHRH3ssC4pq"
      },
      "outputs": [],
      "source": [
        "X=df1.iloc[:,:2]\n",
        "Y=df1.iloc[:,2]"
      ]
    },
    {
      "cell_type": "code",
      "execution_count": null,
      "metadata": {
        "id": "VNFepIu2C4pq"
      },
      "outputs": [],
      "source": [
        "X=np.array(X)\n",
        "Y=np.array(Y)"
      ]
    },
    {
      "cell_type": "code",
      "execution_count": null,
      "metadata": {
        "id": "3ywMfDEHC4pq"
      },
      "outputs": [],
      "source": [
        "X=X.T\n",
        "Y=Y.reshape((1,-1))"
      ]
    },
    {
      "cell_type": "code",
      "execution_count": null,
      "metadata": {
        "id": "S_OLdMhuC4pr",
        "outputId": "15049b16-a04b-4980-cecf-7401cf82cc96"
      },
      "outputs": [
        {
          "data": {
            "text/plain": [
              "(1, 400)"
            ]
          },
          "execution_count": 36,
          "metadata": {},
          "output_type": "execute_result"
        }
      ],
      "source": [
        "Y.shape"
      ]
    },
    {
      "cell_type": "code",
      "execution_count": null,
      "metadata": {
        "id": "Ckr9d0j7C4pr",
        "outputId": "8316b287-b2fd-4603-a2b2-d606f2c6a7f7"
      },
      "outputs": [
        {
          "name": "stdout",
          "output_type": "stream",
          "text": [
            "0.47\n"
          ]
        },
        {
          "name": "stderr",
          "output_type": "stream",
          "text": [
            "C:\\Users\\jasme\\anaconda3\\lib\\site-packages\\sklearn\\utils\\validation.py:63: DataConversionWarning: A column-vector y was passed when a 1d array was expected. Please change the shape of y to (n_samples, ), for example using ravel().\n",
            "  return f(*args, **kwargs)\n"
          ]
        }
      ],
      "source": [
        "from sklearn.linear_model import LogisticRegression\n",
        "import sklearn\n",
        "lr=LogisticRegressionCV()\n",
        "lr.fit(X.T,Y.T)\n",
        "Y_predict=lr.predict(X.T)\n",
        "print(sklearn.metrics.accuracy_score(Y_predict,Y.T))"
      ]
    },
    {
      "cell_type": "code",
      "execution_count": null,
      "metadata": {
        "id": "Wotis3iFC4ps"
      },
      "outputs": [],
      "source": [
        "def initialize_parameters(n_x, n_h, n_y):\n",
        "    W1=np.random.randn(n_h,n_x)*0.01\n",
        "    b1=np.zeros((n_h,1))\n",
        "    W2=np.random.randn(n_y,n_h)*0.01\n",
        "    b2=np.zeros((n_y,1))\n",
        "    parameters = {'W1': W1,'b1': b1,'W2': W2,'b2': b2}\n",
        "    \n",
        "    return parameters"
      ]
    },
    {
      "cell_type": "code",
      "execution_count": null,
      "metadata": {
        "id": "I3KPdLOaC4pt"
      },
      "outputs": [],
      "source": [
        "def forward_propagation(parameters,X):\n",
        "    W1=parameters['W1']\n",
        "    b1=parameters['b1']\n",
        "    W2=parameters['W2']\n",
        "    b2=parameters['b2']\n",
        "    Z1=np.dot(W1,X)+b1\n",
        "    A1=np.tanh(Z1)\n",
        "    Z2=np.dot(W2,A1)+b2\n",
        "    A2=1/(1+np.exp(-Z2))\n",
        "    cache={'Z1':Z1,'A1':A1,'Z2':Z2,'A2':A2}\n",
        "    return A2,cache"
      ]
    },
    {
      "cell_type": "code",
      "execution_count": null,
      "metadata": {
        "id": "sgURHWSaC4pt"
      },
      "outputs": [],
      "source": [
        "def compute_cost(A2, Y):\n",
        "    n=Y.shape[1]\n",
        "    cost=(-1/n)*np.sum(np.multiply(np.log(A2),Y)+np.multiply(np.log(1-A2),1-Y))\n",
        "    cost=float(np.squeeze(cost))\n",
        "    return cost"
      ]
    },
    {
      "cell_type": "code",
      "execution_count": null,
      "metadata": {
        "id": "dOJw7yyJC4pu"
      },
      "outputs": [],
      "source": [
        "def back_propagation(parameters,cache,X,Y):\n",
        "    n=X.shape[1]\n",
        "    W1=parameters['W1']\n",
        "    W2=parameters['W2']\n",
        "    A1=cache['A1']\n",
        "    A2=cache['A2']\n",
        "    dZ2=A2-Y\n",
        "    dW2=(1/n)*np.dot(dZ2,A1.T)\n",
        "    db2=(1/n)*np.sum(dZ2,axis=1,keepdims=True)\n",
        "    dZ1=np.multiply(np.dot(W2.T,dZ2),1-np.power(A1,2))\n",
        "    dW1=(1/n)*np.dot(dZ1,X.T)\n",
        "    db1=(1/n)*np.sum(dZ1,axis=1,keepdims=True)\n",
        "    grads={'dW1':dW1,'db1':db1,'dW2':dW2,'db2':db2}\n",
        "    return grads\n",
        "    "
      ]
    },
    {
      "cell_type": "code",
      "execution_count": null,
      "metadata": {
        "id": "TTzVfQ-HC4pu"
      },
      "outputs": [],
      "source": [
        "def update_rule(grads,parameters,lr):\n",
        "    W1=parameters['W1']\n",
        "    b1=parameters['b1']\n",
        "    W2=parameters['W2']\n",
        "    b2=parameters['b2']\n",
        "    dW1=grads['dW1']\n",
        "    db1=grads['db1']\n",
        "    dW2=grads['dW2']\n",
        "    db2=grads['db2']\n",
        "    W1=W1-lr*dW1\n",
        "    b1=b1-lr*db1\n",
        "    W2=W2-lr*dW2\n",
        "    b2=b2-lr*db2\n",
        "    parameters = {\"W1\": W1,\"b1\": b1,\"W2\": W2,\"b2\": b2}\n",
        "    \n",
        "    return parameters"
      ]
    },
    {
      "cell_type": "code",
      "execution_count": null,
      "metadata": {
        "id": "c8C4J6rGC4pv"
      },
      "outputs": [],
      "source": [
        "def training_phase(X,Y,epochs,lr):\n",
        "    n_x=X.shape[0]\n",
        "    n_h=4\n",
        "    n_y=Y.shape[0]\n",
        "    parameters=initialize_parameters(n_x, n_h, n_y)\n",
        "    for i in range(epochs):\n",
        "        A2,cache=forward_propagation(parameters,X)\n",
        "        cost=compute_cost(A2,Y)\n",
        "        grads=back_propagation(parameters,cache,X,Y)\n",
        "        parameters=update_rule(grads,parameters,lr)\n",
        "        if(i%1000==0):\n",
        "             print (\"Cost after iteration %i: %f\" %(i, cost))\n",
        "                \n",
        "    return parameters"
      ]
    },
    {
      "cell_type": "code",
      "execution_count": null,
      "metadata": {
        "id": "DW8GCrxcC4pv"
      },
      "outputs": [],
      "source": [
        "def predict(parameters,X):\n",
        "    A2,cache=forward_propagation(parameters,X)\n",
        "    predictions=A2>0.5\n",
        "    return predictions"
      ]
    },
    {
      "cell_type": "code",
      "execution_count": null,
      "metadata": {
        "id": "bY0vuYtJC4pv",
        "outputId": "302ab615-68bc-4bbe-8b5a-4b855b02b59e"
      },
      "outputs": [
        {
          "name": "stdout",
          "output_type": "stream",
          "text": [
            "Cost after iteration 0: 0.693113\n",
            "Cost after iteration 1000: 0.282578\n",
            "Cost after iteration 2000: 0.269777\n",
            "Cost after iteration 3000: 0.262318\n",
            "Cost after iteration 4000: 0.241228\n",
            "Cost after iteration 5000: 0.226023\n",
            "Cost after iteration 6000: 0.221621\n",
            "Cost after iteration 7000: 0.218907\n",
            "Cost after iteration 8000: 0.216885\n",
            "Cost after iteration 9000: 0.215260\n"
          ]
        }
      ],
      "source": [
        "parameters=training_phase(X,Y,10000,lr=1.2)"
      ]
    },
    {
      "cell_type": "code",
      "execution_count": null,
      "metadata": {
        "id": "IRTOPmEhC4pw"
      },
      "outputs": [],
      "source": [
        "predictions=predict(parameters,X)\n"
      ]
    },
    {
      "cell_type": "code",
      "execution_count": null,
      "metadata": {
        "id": "F80jD-9mC4pw",
        "outputId": "866b397b-930c-4fa3-f945-2f6602fddfbc"
      },
      "outputs": [
        {
          "name": "stdout",
          "output_type": "stream",
          "text": [
            "Accuracy: 91%\n"
          ]
        }
      ],
      "source": [
        "print ('Accuracy: %d' % float((np.dot(Y, predictions.T) + np.dot(1 - Y, 1 - predictions.T)) / float(Y.size) * 100) + '%')"
      ]
    },
    {
      "cell_type": "code",
      "execution_count": null,
      "metadata": {
        "id": "vZjiCESFC4pw",
        "outputId": "359b73f7-e421-42d5-c81f-4de060af379f"
      },
      "outputs": [
        {
          "data": {
            "text/plain": [
              "0.905"
            ]
          },
          "execution_count": 53,
          "metadata": {},
          "output_type": "execute_result"
        }
      ],
      "source": [
        "from sklearn import metrics\n",
        "metrics.accuracy_score(predictions.T,Y.T)"
      ]
    },
    {
      "cell_type": "code",
      "execution_count": null,
      "metadata": {
        "id": "bvLTez7XC4pw"
      },
      "outputs": [],
      "source": [
        ""
      ]
    }
  ],
  "metadata": {
    "kernelspec": {
      "display_name": "Python 3",
      "language": "python",
      "name": "python3"
    },
    "language_info": {
      "codemirror_mode": {
        "name": "ipython",
        "version": 3
      },
      "file_extension": ".py",
      "mimetype": "text/x-python",
      "name": "python",
      "nbconvert_exporter": "python",
      "pygments_lexer": "ipython3",
      "version": "3.7.6"
    },
    "colab": {
      "name": "NLP Lab-Week 7.ipynb",
      "provenance": []
    }
  },
  "nbformat": 4,
  "nbformat_minor": 0
}